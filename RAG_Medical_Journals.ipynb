{
  "cells": [
    {
      "cell_type": "markdown",
      "source": [
        "# Chatbot for Medical Journal Data"
      ],
      "metadata": {
        "id": "UIy8i7p3Jl37"
      }
    },
    {
      "cell_type": "code",
      "execution_count": null,
      "metadata": {
        "id": "mm1LkqQWJVz7"
      },
      "outputs": [],
      "source": [
        "!pip install -q langchain\n",
        "!pip install -q transformers\n",
        "\n",
        "!pip install openai\n",
        "!pip install python-dotenv\n",
        "\n",
        "!pip install chromadb\n",
        "!pip install tiktoken"
      ]
    },
    {
      "cell_type": "markdown",
      "metadata": {
        "id": "SHz2rZ1sgEVs"
      },
      "source": [
        "Importing necessary libraries"
      ]
    },
    {
      "cell_type": "code",
      "source": [
        "from openai import OpenAI\n",
        "import os\n",
        "import openai\n",
        "from openai import OpenAI\n",
        "import sys\n",
        "sys.path.append('../..')\n",
        "\n",
        "from google.colab import userdata\n",
        "api_key = userdata.get('OPENAI_API_KEY')\n",
        "os.environ[\"OPENAI_API_KEY\"] = api_key"
      ],
      "metadata": {
        "id": "4KRjA9IUrl7-"
      },
      "execution_count": null,
      "outputs": []
    },
    {
      "cell_type": "code",
      "execution_count": null,
      "metadata": {
        "id": "oigyVmoFJuWX"
      },
      "outputs": [],
      "source": [
        "from langchain.text_splitter import RecursiveCharacterTextSplitter, CharacterTextSplitter\n",
        "from langchain.embeddings.openai import OpenAIEmbeddings\n",
        "from langchain.vectorstores import FAISS\n",
        "from langchain import HuggingFacePipeline\n",
        "from langchain.chains import RetrievalQA\n",
        "from langchain_community.document_loaders.csv_loader import CSVLoader\n",
        "from langchain.vectorstores import Chroma"
      ]
    },
    {
      "cell_type": "code",
      "execution_count": null,
      "metadata": {
        "id": "vzlU_sdKXTph"
      },
      "outputs": [],
      "source": [
        "# LOad the data downloaded from Kaggle in csv format\n",
        "\n",
        "loader = CSVLoader(file_path = \"/content/train.csv\", source_column = \"abstract\")\n",
        "pages = loader.load()"
      ]
    },
    {
      "cell_type": "code",
      "execution_count": null,
      "metadata": {
        "id": "zbV5uxAGLKE5"
      },
      "outputs": [],
      "source": [
        "page = pages[0]"
      ]
    },
    {
      "cell_type": "code",
      "source": [
        "print(page)"
      ],
      "metadata": {
        "colab": {
          "base_uri": "https://localhost:8080/"
        },
        "id": "aySmwtQindcs",
        "outputId": "71cedb99-8794-4658-a07b-98cacadfeba3"
      },
      "execution_count": null,
      "outputs": [
        {
          "output_type": "stream",
          "name": "stdout",
          "text": [
            "page_content='uuid: 0\\ntitle: Accessible Visual Artworks for Blind and Visually Impaired People: Comparing a Multimodal Approach with Tactile Graphics\\nauthor: Quero, Luis Cavazos; Bartolome, Jorge Iranzo; Cho, Jundong\\nabstract: Despite the use of tactile graphics and audio guides, blind and visually impaired people still face challenges to experience and understand visual artworks independently at art exhibitions. Art museums and other art places are increasingly exploring the use of interactive guides to make their collections more accessible. In this work, we describe our approach to an interactive multimodal guide prototype that uses audio and tactile modalities to improve the autonomous access to information and experience of visual artworks. The prototype is composed of a touch-sensitive 2.5D artwork relief model that can be freely explored by touch. Users can access localized verbal descriptions and audio by performing touch gestures on the surface while listening to themed background music along. We present the design requirements derived from a formative study realized with the help of eight blind and visually impaired participants, art museum and gallery staff, and artists. We extended the formative study by organizing two accessible art exhibitions. There, eighteen participants evaluated and compared multimodal and tactile graphic accessible exhibits. Results from a usability survey indicate that our multimodal approach is simple, easy to use, and improves confidence and independence when exploring visual artworks.\\nKeywords: accessibility technology; multimodal interaction; auditory interface; touch interface; vision impairment\\nlabel: 0' metadata={'source': 'Despite the use of tactile graphics and audio guides, blind and visually impaired people still face challenges to experience and understand visual artworks independently at art exhibitions. Art museums and other art places are increasingly exploring the use of interactive guides to make their collections more accessible. In this work, we describe our approach to an interactive multimodal guide prototype that uses audio and tactile modalities to improve the autonomous access to information and experience of visual artworks. The prototype is composed of a touch-sensitive 2.5D artwork relief model that can be freely explored by touch. Users can access localized verbal descriptions and audio by performing touch gestures on the surface while listening to themed background music along. We present the design requirements derived from a formative study realized with the help of eight blind and visually impaired participants, art museum and gallery staff, and artists. We extended the formative study by organizing two accessible art exhibitions. There, eighteen participants evaluated and compared multimodal and tactile graphic accessible exhibits. Results from a usability survey indicate that our multimodal approach is simple, easy to use, and improves confidence and independence when exploring visual artworks.', 'row': 0}\n"
          ]
        }
      ]
    },
    {
      "cell_type": "code",
      "execution_count": null,
      "metadata": {
        "colab": {
          "base_uri": "https://localhost:8080/"
        },
        "id": "UZNUUTRRLKNN",
        "outputId": "61241eae-307b-429e-938c-0fdc13f3ac23"
      },
      "outputs": [
        {
          "output_type": "stream",
          "name": "stdout",
          "text": [
            "uuid: 0\n",
            "title: Accessible Visual Artworks for Blind and Visually Impaired People: Comparing a Multimodal Approach with Tactile Graphics\n",
            "author: Quero, Luis Cavazos; Bartolome, Jorge Iranzo; Cho, Jundong\n",
            "abstract: Despite the use of tactile graphics and audio guides, blind and visually impaired people still face challenges to experience and understand visual artworks independently at art exhibitions. Art museums and other art places are increasingly exploring the use of interactive guides to make\n"
          ]
        }
      ],
      "source": [
        "print(page.page_content[:500])"
      ]
    },
    {
      "cell_type": "code",
      "execution_count": null,
      "metadata": {
        "colab": {
          "base_uri": "https://localhost:8080/"
        },
        "id": "-QECT08ALKWm",
        "outputId": "08610215-871c-422e-85f4-9d69fd2ae021"
      },
      "outputs": [
        {
          "output_type": "execute_result",
          "data": {
            "text/plain": [
              "{'source': 'Despite the use of tactile graphics and audio guides, blind and visually impaired people still face challenges to experience and understand visual artworks independently at art exhibitions. Art museums and other art places are increasingly exploring the use of interactive guides to make their collections more accessible. In this work, we describe our approach to an interactive multimodal guide prototype that uses audio and tactile modalities to improve the autonomous access to information and experience of visual artworks. The prototype is composed of a touch-sensitive 2.5D artwork relief model that can be freely explored by touch. Users can access localized verbal descriptions and audio by performing touch gestures on the surface while listening to themed background music along. We present the design requirements derived from a formative study realized with the help of eight blind and visually impaired participants, art museum and gallery staff, and artists. We extended the formative study by organizing two accessible art exhibitions. There, eighteen participants evaluated and compared multimodal and tactile graphic accessible exhibits. Results from a usability survey indicate that our multimodal approach is simple, easy to use, and improves confidence and independence when exploring visual artworks.',\n",
              " 'row': 0}"
            ]
          },
          "metadata": {},
          "execution_count": 11
        }
      ],
      "source": [
        "page.metadata"
      ]
    },
    {
      "cell_type": "markdown",
      "metadata": {
        "id": "7slRWhFZd6-s"
      },
      "source": [
        "# Splitting the data file into multiple chunks"
      ]
    },
    {
      "cell_type": "code",
      "execution_count": null,
      "metadata": {
        "id": "aAALxZ6VoEk4"
      },
      "outputs": [],
      "source": [
        "# Split using recursive splitter\n",
        "\n",
        "from langchain.text_splitter import RecursiveCharacterTextSplitter\n",
        "text_splitter = RecursiveCharacterTextSplitter(\n",
        "    chunk_size = 1000,\n",
        "    chunk_overlap = 150\n",
        ")"
      ]
    },
    {
      "cell_type": "code",
      "execution_count": null,
      "metadata": {
        "id": "DJRKPFrdoG5e"
      },
      "outputs": [],
      "source": [
        "splits = text_splitter.split_documents(pages)"
      ]
    },
    {
      "cell_type": "code",
      "execution_count": null,
      "metadata": {
        "colab": {
          "base_uri": "https://localhost:8080/"
        },
        "id": "3spbzJH9aeRu",
        "outputId": "e80dd5b2-1a42-4adf-fc5f-10eb3a9c5a48"
      },
      "outputs": [
        {
          "output_type": "execute_result",
          "data": {
            "text/plain": [
              "22192"
            ]
          },
          "metadata": {},
          "execution_count": 22
        }
      ],
      "source": [
        "len(splits)"
      ]
    },
    {
      "cell_type": "code",
      "execution_count": null,
      "metadata": {
        "colab": {
          "base_uri": "https://localhost:8080/"
        },
        "id": "XAkvaR-rswee",
        "outputId": "98064d86-e753-4951-f8e1-93df5b6b7242"
      },
      "outputs": [
        {
          "output_type": "stream",
          "name": "stdout",
          "text": [
            "OpenAI version is compatible.\n",
            "OPENAI WAS GREAT AGAIN\n"
          ]
        }
      ],
      "source": [
        "import openai\n",
        "from packaging import version\n",
        "\n",
        "required_version = version.parse(\"1.1.1\") # replace the version by the version you want\n",
        "current_version = version.parse(openai.__version__)\n",
        "\n",
        "if current_version < required_version:\n",
        "    raise ValueError(f\"Error: OpenAI version {openai.__version__}\"\n",
        "                     \" is less than the required version 1.1.1\")\n",
        "else:\n",
        "    print(\"OpenAI version is compatible.\")\n",
        "\n",
        "# -- Now we can get to it\n",
        "from openai import OpenAI\n",
        "\n",
        "print('OPENAI WAS GREAT AGAIN')"
      ]
    },
    {
      "cell_type": "markdown",
      "source": [
        "# Create vectors from embeddings using Chroma"
      ],
      "metadata": {
        "id": "iD6RkBYyrpX3"
      }
    },
    {
      "cell_type": "code",
      "execution_count": null,
      "metadata": {
        "id": "7u6HzKGunGmf",
        "colab": {
          "base_uri": "https://localhost:8080/"
        },
        "outputId": "295000c9-2826-48a6-a6f8-d6a70b826add"
      },
      "outputs": [
        {
          "output_type": "stream",
          "name": "stderr",
          "text": [
            "/usr/local/lib/python3.10/dist-packages/langchain_core/_api/deprecation.py:117: LangChainDeprecationWarning: The class `langchain_community.embeddings.openai.OpenAIEmbeddings` was deprecated in langchain-community 0.0.9 and will be removed in 0.2.0. An updated version of the class exists in the langchain-openai package and should be used instead. To use it run `pip install -U langchain-openai` and import as `from langchain_openai import OpenAIEmbeddings`.\n",
            "  warn_deprecated(\n"
          ]
        }
      ],
      "source": [
        "persist_directory = 'docs/chroma/' #store the embeddings to this directory for future use\n",
        "\n",
        "embedding = OpenAIEmbeddings()"
      ]
    },
    {
      "cell_type": "code",
      "execution_count": null,
      "metadata": {
        "id": "J2-7rKtjJ7h9"
      },
      "outputs": [],
      "source": [
        "vectordb = Chroma.from_documents(\n",
        "    documents=splits,\n",
        "    embedding=embedding,\n",
        "    persist_directory=persist_directory\n",
        ")"
      ]
    },
    {
      "cell_type": "code",
      "execution_count": null,
      "metadata": {
        "colab": {
          "base_uri": "https://localhost:8080/"
        },
        "id": "_daMikWkJ57d",
        "outputId": "5df44323-36cb-45b1-8fbe-517c17b7609c"
      },
      "outputs": [
        {
          "output_type": "stream",
          "name": "stdout",
          "text": [
            "22192\n"
          ]
        }
      ],
      "source": [
        "print(vectordb._collection.count())"
      ]
    },
    {
      "cell_type": "code",
      "execution_count": null,
      "metadata": {
        "id": "X3kBw10BJ4Cb"
      },
      "outputs": [],
      "source": [
        "question = \"what are the abstracts of Quero, Luis Cavazos?\""
      ]
    },
    {
      "cell_type": "code",
      "execution_count": null,
      "metadata": {
        "id": "KXvMU_XjJ2D9"
      },
      "outputs": [],
      "source": [
        "# using maximum marginal relevance search to ketch 5 documents and then select 3 diverse docs from the fetched\n",
        "\n",
        "docs_mmr = vectordb.max_marginal_relevance_search(question,k=3, fetch_k = 5)"
      ]
    },
    {
      "cell_type": "code",
      "execution_count": null,
      "metadata": {
        "colab": {
          "base_uri": "https://localhost:8080/"
        },
        "id": "PkK0mj1qbTe3",
        "outputId": "51c89481-c162-4749-8f42-9902bd03de43"
      },
      "outputs": [
        {
          "output_type": "execute_result",
          "data": {
            "text/plain": [
              "70"
            ]
          },
          "metadata": {},
          "execution_count": 29
        }
      ],
      "source": [
        "len(docs)"
      ]
    },
    {
      "cell_type": "code",
      "execution_count": null,
      "metadata": {
        "colab": {
          "base_uri": "https://localhost:8080/",
          "height": 71
        },
        "id": "bcpXLTUrbVIu",
        "outputId": "319566d2-6fd9-4580-a08a-02e31087e055"
      },
      "outputs": [
        {
          "output_type": "execute_result",
          "data": {
            "text/plain": [
              "'uuid: 5027\\ntitle: The soundscapes of Baja California Sur: Preliminary results from the Canon de Santa Teresa rock art landscape\\nauthor: Diaz-Andreu, Margarita; Gutierrez Martinez, Maria de la Luz; Mattioli, Tommaso; Picas, Mathieu; Villalobos, Cesar; Zubieta, Leslie F.'"
            ],
            "application/vnd.google.colaboratory.intrinsic+json": {
              "type": "string"
            }
          },
          "metadata": {},
          "execution_count": 30
        }
      ],
      "source": [
        "docs_mmr[0].page_content"
      ]
    },
    {
      "cell_type": "code",
      "execution_count": null,
      "metadata": {
        "colab": {
          "base_uri": "https://localhost:8080/",
          "height": 53
        },
        "id": "bPKPsBPzbXia",
        "outputId": "d491ca75-280d-49dd-a1e8-01ba8cce5ab2"
      },
      "outputs": [
        {
          "output_type": "execute_result",
          "data": {
            "text/plain": [
              "'Noel Badano,María Inés Pérez Millán,María Florencia Quiroga,Patricia Baré,Itatí Ibañez,Roberto Pozner,Mercedes Borge,Guillermo Docena,Liliana Bezrodnik,María Belén Almejun'"
            ],
            "application/vnd.google.colaboratory.intrinsic+json": {
              "type": "string"
            }
          },
          "metadata": {},
          "execution_count": 31
        }
      ],
      "source": [
        "docs_mmr[1].page_content"
      ]
    },
    {
      "cell_type": "markdown",
      "metadata": {
        "id": "DtbA49_tfy27"
      },
      "source": [
        "# Compressing the retrieved content"
      ]
    },
    {
      "cell_type": "code",
      "execution_count": null,
      "metadata": {
        "id": "ZgQ4DS5Hfyh8"
      },
      "outputs": [],
      "source": [
        "from langchain.retrievers import ContextualCompressionRetriever\n",
        "from langchain.retrievers.document_compressors import LLMChainExtractor\n",
        "from langchain.llms import OpenAIChat\n",
        "\n",
        "def pretty_print_docs(docs):\n",
        "    print(f\"\\n{'-' * 100}\\n\".join([f\"Document {i+1}:\\n\\n\" + d.page_content for i, d in enumerate(docs)]))\n"
      ]
    },
    {
      "cell_type": "code",
      "execution_count": null,
      "metadata": {
        "id": "zoOp8n2UdFir",
        "colab": {
          "base_uri": "https://localhost:8080/"
        },
        "outputId": "ef9a56ba-e992-4fe9-cbf8-0a2c28946ba0"
      },
      "outputs": [
        {
          "output_type": "stream",
          "name": "stderr",
          "text": [
            "/usr/local/lib/python3.10/dist-packages/langchain_core/_api/deprecation.py:117: LangChainDeprecationWarning: The class `langchain_community.chat_models.openai.ChatOpenAI` was deprecated in langchain-community 0.0.10 and will be removed in 0.2.0. An updated version of the class exists in the langchain-openai package and should be used instead. To use it run `pip install -U langchain-openai` and import as `from langchain_openai import ChatOpenAI`.\n",
            "  warn_deprecated(\n"
          ]
        }
      ],
      "source": [
        "# Wrap our vectorstore\n",
        "\n",
        "from langchain.chat_models import ChatOpenAI\n",
        "llm = ChatOpenAI(temperature=0, model=\"gpt-3.5-turbo-0613\", max_tokens=1000)\n",
        "\n",
        "compressor = LLMChainExtractor.from_llm(llm)\n",
        "\n",
        "\n",
        "compression_retriever = ContextualCompressionRetriever(\n",
        "    base_compressor=compressor,\n",
        "    base_retriever=vectordb.as_retriever(search_type = \"mmr\")\n",
        ")"
      ]
    },
    {
      "cell_type": "code",
      "execution_count": null,
      "metadata": {
        "colab": {
          "base_uri": "https://localhost:8080/"
        },
        "id": "9gYatQjHf8CA",
        "outputId": "3c218ad0-860a-418d-9f64-55d5b9c77288"
      },
      "outputs": [
        {
          "output_type": "stream",
          "name": "stderr",
          "text": [
            "/usr/local/lib/python3.10/dist-packages/langchain/chains/llm.py:316: UserWarning: The predict_and_parse method is deprecated, instead pass an output parser directly to LLMChain.\n",
            "  warnings.warn(\n",
            "/usr/local/lib/python3.10/dist-packages/langchain/chains/llm.py:316: UserWarning: The predict_and_parse method is deprecated, instead pass an output parser directly to LLMChain.\n",
            "  warnings.warn(\n",
            "/usr/local/lib/python3.10/dist-packages/langchain/chains/llm.py:316: UserWarning: The predict_and_parse method is deprecated, instead pass an output parser directly to LLMChain.\n",
            "  warnings.warn(\n",
            "/usr/local/lib/python3.10/dist-packages/langchain/chains/llm.py:316: UserWarning: The predict_and_parse method is deprecated, instead pass an output parser directly to LLMChain.\n",
            "  warnings.warn(\n"
          ]
        },
        {
          "output_type": "stream",
          "name": "stdout",
          "text": [
            "Document 1:\n",
            "\n",
            "satisfaction with the art appreciation activity directly affected their interest in art. The correlation reached 0.78. Satisfaction was strongly correlated with psychological expectations (0.67) and art information obtained in the early stage (0.61).\n",
            "----------------------------------------------------------------------------------------------------\n",
            "Document 2:\n",
            "\n",
            "ART and patients with long ART are vulnerable. More attention should be paid to weather and ART, and these findings may have implications for effective policies to reduce ART to protect public health.\n",
            "----------------------------------------------------------------------------------------------------\n",
            "Document 3:\n",
            "\n",
            "art psychotherapy could be an effective add-on strategy for the treatment of moderate-to-severe MDD\n",
            "----------------------------------------------------------------------------------------------------\n",
            "Document 4:\n",
            "\n",
            "Art may be made as a guide to understanding sense of place, and also as a pathway to understanding and valuing scientific ideas. Here we consider this connection in the context of a selected history of artists working in Antarctica, from early explorers to the modern era. This provides a parallel trajectory for the nature, realisation and purpose of the art. We then consider the interaction between art and science and the nature of interdisciplinary work by looking at work produced in a sea ice-based science field camp by an artist collecting data - both scientific and art focused. The artist participated in two field campaigns a year apart, allowing comparison of the evolution of both the artistic practice and the science data collection. Furthermore, the collection of data that served both needs provides a unique point of connection between two fields of endeavour, which are typically considered as separate.\n"
          ]
        }
      ],
      "source": [
        "question = \"what did they say about ART?\"\n",
        "compressed_docs = compression_retriever.get_relevant_documents(question)\n",
        "pretty_print_docs(compressed_docs)"
      ]
    },
    {
      "cell_type": "markdown",
      "source": [
        "# Retrivel"
      ],
      "metadata": {
        "id": "gcou2mDX3x3z"
      }
    },
    {
      "cell_type": "code",
      "execution_count": null,
      "metadata": {
        "id": "utF9g0V6gRNR"
      },
      "outputs": [],
      "source": [
        "from langchain.chains import RetrievalQA"
      ]
    },
    {
      "cell_type": "code",
      "source": [
        "from langchain.chat_models import ChatOpenAI\n",
        "llm = ChatOpenAI(model_name=\"gpt-3.5-turbo\", temperature=0)"
      ],
      "metadata": {
        "id": "2Op3J-EA4B2a"
      },
      "execution_count": null,
      "outputs": []
    },
    {
      "cell_type": "code",
      "source": [
        "qa_chain = RetrievalQA.from_chain_type(\n",
        "    llm,\n",
        "    retriever=vectordb.as_retriever()\n",
        ")"
      ],
      "metadata": {
        "id": "rnrSi8YV30CU"
      },
      "execution_count": null,
      "outputs": []
    },
    {
      "cell_type": "code",
      "source": [
        "question = \"what did they say about ART?\"\n",
        "\n",
        "result = qa_chain({\"query\": question})"
      ],
      "metadata": {
        "id": "8_Px5kZJ3145"
      },
      "execution_count": null,
      "outputs": []
    },
    {
      "cell_type": "code",
      "source": [
        "from langchain.prompts import PromptTemplate\n",
        "\n",
        "# Build prompt\n",
        "\n",
        "template = \"\"\"Use the following pieces of context to answer the question at the end.\n",
        "If you don't know the answer, just say that you don't know, don't try to make up an answer.\n",
        "Use three sentences maximum.\n",
        "Keep the answer as concise as possible. Always say \"thanks for asking!\" at the end of the answer.\n",
        "{context}\n",
        "Question: {question}\n",
        "Helpful Answer:\"\"\"\n",
        "\n",
        "QA_CHAIN_PROMPT = PromptTemplate.from_template(template)\n",
        "\n"
      ],
      "metadata": {
        "id": "qHOaaKPT4Syv"
      },
      "execution_count": null,
      "outputs": []
    },
    {
      "cell_type": "code",
      "source": [
        "# Run chain with prompt\n",
        "\n",
        "qa_chain = RetrievalQA.from_chain_type(\n",
        "    llm,\n",
        "    retriever=vectordb.as_retriever(),\n",
        "    return_source_documents=True,\n",
        "    chain_type_kwargs={\"prompt\": QA_CHAIN_PROMPT}\n",
        ")"
      ],
      "metadata": {
        "id": "7prKaaTZ4aqy"
      },
      "execution_count": null,
      "outputs": []
    },
    {
      "cell_type": "code",
      "source": [
        "question = \"is Laparoscopic the only way to treat Endometriosis\"\n",
        "result = qa_chain({\"query\": question})"
      ],
      "metadata": {
        "id": "pNVsOPpD4cKY"
      },
      "execution_count": null,
      "outputs": []
    },
    {
      "cell_type": "code",
      "source": [
        "result['result']"
      ],
      "metadata": {
        "colab": {
          "base_uri": "https://localhost:8080/",
          "height": 89
        },
        "id": "6sDOuwwd4kYf",
        "outputId": "67d05ac8-a32c-46ae-d2f5-8a0454308f81"
      },
      "execution_count": null,
      "outputs": [
        {
          "output_type": "execute_result",
          "data": {
            "text/plain": [
              "'Laparoscopic surgery was originally considered the gold standard in the treatment of endometriosis-related infertility, but recent advancements in assisted reproductive technology (ART) have also proven to be effective. The combined approach of surgery followed by ART has shown higher chances of pregnancy in infertile women with endometriosis. Thanks for asking!'"
            ],
            "application/vnd.google.colaboratory.intrinsic+json": {
              "type": "string"
            }
          },
          "metadata": {},
          "execution_count": 70
        }
      ]
    },
    {
      "cell_type": "code",
      "source": [
        "result[\"source_documents\"][0]"
      ],
      "metadata": {
        "colab": {
          "base_uri": "https://localhost:8080/"
        },
        "id": "_W_3DIZp4pV-",
        "outputId": "60ff8720-ce09-4a70-b9d5-83745a7273ea"
      },
      "execution_count": null,
      "outputs": [
        {
          "output_type": "execute_result",
          "data": {
            "text/plain": [
              "Document(page_content='abstract: Laparoscopic surgery was originally considered the gold standard in the treatment of endometriosis-related infertility. Assisted reproductive technology (ART) was indicated as second-line treatment or in the case of male factor. The combined approach of surgery followed by ART proved to offer higher chances of pregnancy in infertile women with endometriosis. However, it was highlighted how pelvic surgery for endometriosis, especially in cases of ovarian endometriomas, could cause iatrogenic damage due to ovarian reserve loss, adhesion formation (scarring), and ischemic damage. Furthermore, in the last few years, the trend to delay the first childbirth, recent technological advances in ultrasound diagnosis, and technological progress in clinical and laboratory aspects of ART have certainly influenced the approach to infertility and endometriosis with, ART assuming a more relevant role. Management of endometriosis should take into account that the disease is chronic and', metadata={'row': 589, 'source': 'Laparoscopic surgery was originally considered the gold standard in the treatment of endometriosis-related infertility. Assisted reproductive technology (ART) was indicated as second-line treatment or in the case of male factor. The combined approach of surgery followed by ART proved to offer higher chances of pregnancy in infertile women with endometriosis. However, it was highlighted how pelvic surgery for endometriosis, especially in cases of ovarian endometriomas, could cause iatrogenic damage due to ovarian reserve loss, adhesion formation (scarring), and ischemic damage. Furthermore, in the last few years, the trend to delay the first childbirth, recent technological advances in ultrasound diagnosis, and technological progress in clinical and laboratory aspects of ART have certainly influenced the approach to infertility and endometriosis with, ART assuming a more relevant role. Management of endometriosis should take into account that the disease is chronic and involves the reproductive system. Consequently, treatment and counselling should aim to preserve the chances of pregnancy for the patient, even if it is not associated with infertility. This review will analyse the evolution of the management of infertility associated with endometriosis and propose an algorithm for treatment decision-making based on the most recent acquisitions.'})"
            ]
          },
          "metadata": {},
          "execution_count": 71
        }
      ]
    },
    {
      "cell_type": "markdown",
      "source": [
        "Retievel with a different type : Refine\n",
        "\n"
      ],
      "metadata": {
        "id": "hzVcsqal7Q4W"
      }
    },
    {
      "cell_type": "code",
      "source": [
        "qa_chain_mr = RetrievalQA.from_chain_type(\n",
        "    llm,\n",
        "    retriever=vectordb.as_retriever(),\n",
        "    chain_type=\"refine\"\n",
        ")\n",
        "result = qa_chain_mr({\"query\": question})\n",
        "result[\"result\"]"
      ],
      "metadata": {
        "colab": {
          "base_uri": "https://localhost:8080/",
          "height": 268
        },
        "id": "Yc2xMezJ4zti",
        "outputId": "e480013b-b86e-4d5f-8177-8f314b261a2f"
      },
      "execution_count": null,
      "outputs": [
        {
          "output_type": "execute_result",
          "data": {
            "text/plain": [
              "\"Laparoscopic surgery has been traditionally considered the gold standard in the treatment of endometriosis, especially for cases where surgical intervention is necessary. However, there are other treatment options available for managing endometriosis, depending on the severity of the condition and the patient's symptoms. These may include medication therapy, hormone therapy, lifestyle changes, and in some cases, assisted reproductive technology (ART) for infertility related to endometriosis. It is important for patients to discuss with their healthcare provider to determine the most appropriate treatment plan for their individual situation. Additionally, robotic assistance in gynecological surgeries, including those for endometriosis, has shown benefits in more complicated operations, with lower conversion rates to open procedures and improved suturing capabilities compared to traditional laparoscopy. As technology advances and cost considerations are addressed, robotic surgery may become more widely adopted by gynecological surgeons worldwide. Specialized techniques in laparoscopic and endoscopic surgery have shown significant improvements in accuracy, especially in challenging small-size datasets, indicating promising advancements in the field. Management of endometriosis should also consider the chronic nature of the disease and its impact on the reproductive system, with a focus on preserving the patient's chances of pregnancy, even if infertility is not a current concern. ART can play a relevant role in addressing infertility associated with endometriosis, and treatment decisions should be made based on the most recent research and guidelines.\""
            ],
            "application/vnd.google.colaboratory.intrinsic+json": {
              "type": "string"
            }
          },
          "metadata": {},
          "execution_count": 72
        }
      ]
    },
    {
      "cell_type": "markdown",
      "source": [
        "# Using Memory to Retrieve"
      ],
      "metadata": {
        "id": "7bGXWevUD2VE"
      }
    },
    {
      "cell_type": "code",
      "source": [
        "from langchain.memory import ConversationBufferMemory\n",
        "memory = ConversationBufferMemory(\n",
        "    memory_key=\"chat_history\",\n",
        "    return_messages=True\n",
        ")"
      ],
      "metadata": {
        "id": "QHS5Wsdg5MOw"
      },
      "execution_count": null,
      "outputs": []
    },
    {
      "cell_type": "code",
      "source": [
        "# coversational retrieval chain\n",
        "\n",
        "from langchain.chains import ConversationalRetrievalChain\n",
        "retriever=vectordb.as_retriever()\n",
        "qa = ConversationalRetrievalChain.from_llm(\n",
        "    llm,\n",
        "    retriever=retriever,\n",
        "    memory=memory\n",
        ")"
      ],
      "metadata": {
        "id": "zUcxW7dFD3zi"
      },
      "execution_count": null,
      "outputs": []
    },
    {
      "cell_type": "code",
      "source": [
        "question = \"what is enfometriosis\"\n",
        "result = qa({\"question\": question})"
      ],
      "metadata": {
        "id": "NdxYiYyID9_S"
      },
      "execution_count": null,
      "outputs": []
    },
    {
      "cell_type": "code",
      "source": [
        "result['answer']"
      ],
      "metadata": {
        "colab": {
          "base_uri": "https://localhost:8080/",
          "height": 53
        },
        "id": "HwT2TKiuEFzl",
        "outputId": "419217bf-cb28-41eb-9f97-a8ba24e3dafc"
      },
      "execution_count": null,
      "outputs": [
        {
          "output_type": "execute_result",
          "data": {
            "text/plain": [
              "'Endometriosis is a medical condition where tissue similar to the lining inside the uterus, known as the endometrium, starts to grow outside the uterus. This can lead to pain, inflammation, and sometimes fertility issues.'"
            ],
            "application/vnd.google.colaboratory.intrinsic+json": {
              "type": "string"
            }
          },
          "metadata": {},
          "execution_count": 76
        }
      ]
    },
    {
      "cell_type": "code",
      "source": [
        "question = \"is Laparoscopic the only way to treat Endometriosis\"\n",
        "result = qa({\"question\": question})"
      ],
      "metadata": {
        "id": "K32AXMSvEIQ8"
      },
      "execution_count": null,
      "outputs": []
    },
    {
      "cell_type": "code",
      "source": [
        "result['answer']"
      ],
      "metadata": {
        "colab": {
          "base_uri": "https://localhost:8080/",
          "height": 125
        },
        "id": "uThMq-eZEPKS",
        "outputId": "8a13dc36-a332-48a7-bbc8-d33b323f4f23"
      },
      "execution_count": null,
      "outputs": [
        {
          "output_type": "execute_result",
          "data": {
            "text/plain": [
              "'Laparoscopic surgery has been considered the gold standard in the treatment of endometriosis-related infertility. However, in recent years, assisted reproductive technology (ART) has also played a significant role in the management of endometriosis. The combined approach of surgery followed by ART has shown to offer higher chances of pregnancy in infertile women with endometriosis. Additionally, advancements in ultrasound diagnosis and ART have influenced the approach to infertility and endometriosis, with ART assuming a more relevant role. So, while laparoscopic surgery is a common treatment option, it is not the only way to treat endometriosis.'"
            ],
            "application/vnd.google.colaboratory.intrinsic+json": {
              "type": "string"
            }
          },
          "metadata": {},
          "execution_count": 78
        }
      ]
    },
    {
      "cell_type": "code",
      "source": [],
      "metadata": {
        "id": "1xWE0VVoE07b"
      },
      "execution_count": null,
      "outputs": []
    }
  ],
  "metadata": {
    "colab": {
      "provenance": []
    },
    "kernelspec": {
      "display_name": "Python 3",
      "name": "python3"
    },
    "language_info": {
      "name": "python"
    }
  },
  "nbformat": 4,
  "nbformat_minor": 0
}